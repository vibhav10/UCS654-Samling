{
 "cells": [
  {
   "attachments": {},
   "cell_type": "markdown",
   "metadata": {},
   "source": [
    "<h1 align = center> Sampling Assignment - UCS654 </h1>"
   ]
  },
  {
   "attachments": {},
   "cell_type": "markdown",
   "metadata": {},
   "source": [
    "<h3 align = right>  \n",
    "Vibhav Shukla </br>\n",
    "102003772 </br>\n",
    "3CO30 \n",
    "</h3>"
   ]
  },
  {
   "cell_type": "code",
   "execution_count": 65,
   "metadata": {},
   "outputs": [],
   "source": [
    "import pandas as pd\n",
    "import numpy as np\n",
    "from sklearn.model_selection import train_test_split\n",
    "from imblearn.over_sampling import SMOTE\n",
    "from sklearn.metrics import accuracy_score\n",
    "from sklearn.model_selection import train_test_split\n",
    "from sklearn.cluster import KMeans"
   ]
  },
  {
   "cell_type": "code",
   "execution_count": 66,
   "metadata": {},
   "outputs": [],
   "source": [
    "#importing the dataframe\n",
    "df = pd.read_csv('Creditcard_data.csv')\n",
    "#drop the time column\n",
    "df = df.drop(['Time'], axis=1)"
   ]
  },
  {
   "attachments": {},
   "cell_type": "markdown",
   "metadata": {},
   "source": [
    "## 1. Convert the dataset into a balanced class dataset"
   ]
  },
  {
   "cell_type": "code",
   "execution_count": 88,
   "metadata": {},
   "outputs": [
    {
     "data": {
      "image/png": "[encoded data removed]",
      "text/plain": [
       "<Figure size 432x288 with 1 Axes>"
      ]
     },
     "metadata": {
      "needs_background": "light"
     },
     "output_type": "display_data"
    }
   ],
   "source": [
    "import matplotlib.pyplot as plt\n",
    "df['Class'].value_counts().plot(kind='bar')\n",
    "plt.show()"
   ]
  },
  {
   "cell_type": "code",
   "execution_count": 67,
   "metadata": {},
   "outputs": [
    {
     "name": "stdout",
     "output_type": "stream",
     "text": [
      "0    763\n",
      "1      9\n",
      "Name: Class, dtype: int64\n"
     ]
    }
   ],
   "source": [
    "# separate the features and target variable\n",
    "X = df.drop('Class', axis=1)\n",
    "y = df['Class']\n",
    "print(y.value_counts())\n",
    "# create a balanced dataset using SMOTE\n"
   ]
  },
  {
   "attachments": {},
   "cell_type": "markdown",
   "metadata": {},
   "source": [
    "##### As visible, the dataset is highly imbalanced. We will use SMOTE to balance the dataset."
   ]
  },
  {
   "cell_type": "code",
   "execution_count": 68,
   "metadata": {},
   "outputs": [
    {
     "data": {
      "text/plain": [
       "0    763\n",
       "1    763\n",
       "Name: Class, dtype: int64"
      ]
     },
     "execution_count": 68,
     "metadata": {},
     "output_type": "execute_result"
    }
   ],
   "source": [
    "smote = SMOTE(random_state=42)\n",
    "X_resampled, y_resampled = smote.fit_resample(X, y)\n",
    "df_new = pd.concat([X_resampled, y_resampled], axis=1)\n",
    "y_resampled.value_counts()"
   ]
  },
  {
   "cell_type": "code",
   "execution_count": 91,
   "metadata": {},
   "outputs": [
    {
     "data": {
      "image/png": "[encoded data removed]",
      "text/plain": [
       "<Figure size 432x288 with 1 Axes>"
      ]
     },
     "metadata": {
      "needs_background": "light"
     },
     "output_type": "display_data"
    }
   ],
   "source": [
    "#print the bar graph\n",
    "df_new['Class'].value_counts().plot(kind='bar')\n",
    "plt.show()"
   ]
  },
  {
   "cell_type": "code",
   "execution_count": 69,
   "metadata": {},
   "outputs": [],
   "source": [
    "x_ogtrain, x_ogtest, y_ogtrain, y_ogtest = train_test_split(df.drop('Class', axis=1), df['Class'], test_size=0.2, random_state=42)"
   ]
  },
  {
   "attachments": {},
   "cell_type": "markdown",
   "metadata": {},
   "source": [
    "## 2. Using 5 Sampling Methods\n",
    "##### 2.1) Simple Random Sampling"
   ]
  },
  {
   "cell_type": "code",
   "execution_count": 70,
   "metadata": {},
   "outputs": [
    {
     "data": {
      "text/plain": [
       "(772, 30)"
      ]
     },
     "execution_count": 70,
     "metadata": {},
     "output_type": "execute_result"
    }
   ],
   "source": [
    "#use simple random sampling to create a balanced dataset\n",
    "df_simple_random = df.sample(frac=1, random_state=42)\n",
    "df_simple_random.shape\n"
   ]
  },
  {
   "attachments": {},
   "cell_type": "markdown",
   "metadata": {},
   "source": [
    "##### 2.2) Stratified Sampling"
   ]
  },
  {
   "cell_type": "code",
   "execution_count": 71,
   "metadata": {},
   "outputs": [
    {
     "data": {
      "text/plain": [
       "(110, 30)"
      ]
     },
     "execution_count": 71,
     "metadata": {},
     "output_type": "execute_result"
    }
   ],
   "source": [
    "#use stratified sampling to create a balanced dataset\n",
    "from sklearn.model_selection import StratifiedShuffleSplit\n",
    "def stratified_sampling(df, n_samples=2):\n",
    "\n",
    "    sss = StratifiedShuffleSplit(n_splits=1, test_size=n_samples, random_state=42)\n",
    "    for train_index, test_index in sss.split(df, df['Class']):\n",
    "        strat_train_set = df.loc[train_index]\n",
    "        strat_test_set = df.loc[test_index]\n",
    "    return strat_test_set\n",
    "\n",
    "\n",
    "\n",
    "df_stratified = stratified_sampling(df_new, 110)\n",
    "df_stratified.shape"
   ]
  },
  {
   "attachments": {},
   "cell_type": "markdown",
   "metadata": {},
   "source": [
    "##### 2.3) Cluster Sampling"
   ]
  },
  {
   "cell_type": "code",
   "execution_count": 72,
   "metadata": {},
   "outputs": [],
   "source": [
    "#use Cluster sampling to create a balanced dataset\n",
    "\n",
    "def cluster_sampling(df2, n_clusters=5, n_samples=2):\n",
    "    df = df2.copy()\n",
    "    X = df.drop('Class', axis=1)\n",
    "    y = df['Class']\n",
    "    k = n_clusters\n",
    "\n",
    "    kmeans = KMeans(n_clusters=k, random_state=42)\n",
    "    clusters = kmeans.fit_predict(X)\n",
    "\n",
    "    df['Cluster'] = clusters\n",
    "\n",
    "    sampled_clusters = np.random.choice(range(k), size=n_samples, replace=False)\n",
    "    strat_train_set = pd.DataFrame()\n",
    "    for c in sampled_clusters:\n",
    "        cluster = df[df['Cluster'] == c]\n",
    "        n = len(cluster)\n",
    "        sample = cluster.sample(n // 2, random_state=42)\n",
    "        strat_train_set = pd.concat([strat_train_set, sample])\n",
    "\n",
    "    cluster_train_set = strat_train_set.drop('Cluster', axis=1)\n",
    "    \n",
    "    return cluster_train_set\n",
    "\n",
    "df_cluster = cluster_sampling(df_new, n_clusters=5, n_samples=2)\n"
   ]
  },
  {
   "attachments": {},
   "cell_type": "markdown",
   "metadata": {},
   "source": [
    "##### 2.4) Systematic Sampling"
   ]
  },
  {
   "cell_type": "code",
   "execution_count": 73,
   "metadata": {},
   "outputs": [],
   "source": [
    "def systematic_sampling(df_func, step):\n",
    " \n",
    "    indexes = np.arange(0, len(df_func), step=step)\n",
    "    systematic_sample = df_func.iloc[indexes]\n",
    "    return systematic_sample\n",
    "\n",
    "df_systematic = systematic_sampling(df_new, 3)"
   ]
  },
  {
   "attachments": {},
   "cell_type": "markdown",
   "metadata": {},
   "source": [
    "##### 2.5) Reservoir Sampling"
   ]
  },
  {
   "cell_type": "code",
   "execution_count": 74,
   "metadata": {},
   "outputs": [
    {
     "name": "stderr",
     "output_type": "stream",
     "text": [
      "C:\\Users\\vibha\\AppData\\Local\\Temp\\ipykernel_23828\\1605643507.py:12: FutureWarning: The frame.append method is deprecated and will be removed from pandas in a future version. Use pandas.concat instead.\n",
      "  res = res.append(row)\n"
     ]
    },
    {
     "data": {
      "text/plain": [
       "Index(['V1', 'V2', 'V3', 'V4', 'V5', 'V6', 'V7', 'V8', 'V9', 'V10', 'V11',\n",
       "       'V12', 'V13', 'V14', 'V15', 'V16', 'V17', 'V18', 'V19', 'V20', 'V21',\n",
       "       'V22', 'V23', 'V24', 'V25', 'V26', 'V27', 'V28', 'Amount', 'Class'],\n",
       "      dtype='object')"
      ]
     },
     "execution_count": 74,
     "metadata": {},
     "output_type": "execute_result"
    }
   ],
   "source": [
    "import random\n",
    "\n",
    "def reservoir_sampling(df, n_samples):\n",
    "    res = df.iloc[:n_samples, :]\n",
    "    i = n_samples\n",
    "    for index, row in df.iterrows():\n",
    "        if i > n_samples:\n",
    "            j = random.randint(0, i)\n",
    "            if j < n_samples:\n",
    "                res.iloc[j] = row\n",
    "        else:\n",
    "            res = res.append(row)\n",
    "        i += 1\n",
    "    return res\n",
    "\n",
    "df_reservoir = reservoir_sampling(df_new, n_samples=110)\n",
    "df_new.columns"
   ]
  },
  {
   "attachments": {},
   "cell_type": "markdown",
   "metadata": {},
   "source": [
    "## 3) Using 5 different ML models"
   ]
  },
  {
   "attachments": {},
   "cell_type": "markdown",
   "metadata": {},
   "source": [
    "##### 3.1) Logistic Regression"
   ]
  },
  {
   "cell_type": "code",
   "execution_count": 75,
   "metadata": {},
   "outputs": [],
   "source": [
    "from sklearn.linear_model import LogisticRegression\n",
    "\n",
    "def Logistic(X_train, y_train, X_test, y_test):\n",
    "  clf = LogisticRegression()\n",
    "  clf.fit(X_train, y_train)\n",
    "  y_pred = clf.predict(X_test)\n",
    "  return accuracy_score(y_test,y_pred)"
   ]
  },
  {
   "attachments": {},
   "cell_type": "markdown",
   "metadata": {},
   "source": [
    "##### 3.2) Decision Tree"
   ]
  },
  {
   "cell_type": "code",
   "execution_count": 76,
   "metadata": {},
   "outputs": [],
   "source": [
    "from sklearn.tree import DecisionTreeClassifier\n",
    "def DecisionTree(X_train, y_train, X_test, y_test):\n",
    "  tree = DecisionTreeClassifier(max_depth = 2).fit(X_train, y_train)\n",
    "  tree_pred = tree.predict(X_test)\n",
    "  return accuracy_score(y_test,tree_pred)\n",
    "     "
   ]
  },
  {
   "attachments": {},
   "cell_type": "markdown",
   "metadata": {},
   "source": [
    "##### 3.3) Random Forest"
   ]
  },
  {
   "cell_type": "code",
   "execution_count": 77,
   "metadata": {},
   "outputs": [],
   "source": [
    "from sklearn.ensemble import RandomForestClassifier\n",
    "def RandomForest(X_train, y_train, X_test, y_test):\n",
    "  clf = RandomForestClassifier(n_estimators = 2)\n",
    "  clf.fit(X_train, y_train)\n",
    "  y_pred = clf.predict(X_test)\n",
    "  return accuracy_score(y_test,y_pred)"
   ]
  },
  {
   "attachments": {},
   "cell_type": "markdown",
   "metadata": {},
   "source": [
    "##### 3.4) KNN"
   ]
  },
  {
   "cell_type": "code",
   "execution_count": 78,
   "metadata": {},
   "outputs": [],
   "source": [
    "from sklearn.neighbors import KNeighborsClassifier\n",
    "def KNN(X_train, y_train, X_test, y_test):\n",
    "  knn = KNeighborsClassifier(n_neighbors = 7).fit(X_train, y_train)\n",
    "  knn_pred = knn.predict(X_test)\n",
    "  return accuracy_score(y_test,knn_pred)"
   ]
  },
  {
   "attachments": {},
   "cell_type": "markdown",
   "metadata": {},
   "source": [
    "##### 3.5) Naive Bayes"
   ]
  },
  {
   "cell_type": "code",
   "execution_count": 79,
   "metadata": {},
   "outputs": [],
   "source": [
    "from sklearn.naive_bayes import GaussianNB\n",
    "def NaiveBayes(X_train, y_train, X_test, y_test):\n",
    "  clf = GaussianNB()\n",
    "  clf.fit(X_train, y_train)\n",
    "  y_pred = clf.predict(X_test)\n",
    "  return accuracy_score(y_test,y_pred)\n"
   ]
  },
  {
   "attachments": {},
   "cell_type": "markdown",
   "metadata": {},
   "source": [
    "## 4) Comparing the results"
   ]
  },
  {
   "cell_type": "code",
   "execution_count": 80,
   "metadata": {},
   "outputs": [],
   "source": [
    "df_results = pd.DataFrame(columns=['Sampling Method', 'Logistic Regression', 'Decision Tree', 'Random Forest', 'KNN', 'Naive Bayes'])\n",
    "sampling_methods = ['Simple Random Sampling', 'Stratified Sampling', 'Cluster Sampling', 'Systematic Sampling', 'Reservoir Sampling']\n",
    "df_results['Sampling Method'] = sampling_methods"
   ]
  },
  {
   "attachments": {},
   "cell_type": "markdown",
   "metadata": {},
   "source": [
    "##### 4.1) Simple Random Sampling"
   ]
  },
  {
   "cell_type": "code",
   "execution_count": 81,
   "metadata": {},
   "outputs": [
    {
     "name": "stdout",
     "output_type": "stream",
     "text": [
      "Logistic Regression:  0.9935483870967742\n",
      "Decision Tree:  0.9935483870967742\n",
      "Random Forest:  1.0\n",
      "KNN:  0.9935483870967742\n",
      "Naive Bayes:  0.9806451612903225\n"
     ]
    },
    {
     "name": "stderr",
     "output_type": "stream",
     "text": [
      "c:\\Users\\vibha\\AppData\\Local\\Programs\\Python\\Python310\\lib\\site-packages\\sklearn\\linear_model\\_logistic.py:444: ConvergenceWarning: lbfgs failed to converge (status=1):\n",
      "STOP: TOTAL NO. of ITERATIONS REACHED LIMIT.\n",
      "\n",
      "Increase the number of iterations (max_iter) or scale the data as shown in:\n",
      "    https://scikit-learn.org/stable/modules/preprocessing.html\n",
      "Please also refer to the documentation for alternative solver options:\n",
      "    https://scikit-learn.org/stable/modules/linear_model.html#logistic-regression\n",
      "  n_iter_i = _check_optimize_result(\n"
     ]
    }
   ],
   "source": [
    "#run all the models on the df_simple_random dataset\n",
    "x_train, x_test, y_train, y_test = train_test_split(df_simple_random.drop('Class', axis=1), df_simple_random['Class'], test_size=0.2, random_state=42)\n",
    "\n",
    "#add the results to the dataframe and print them\n",
    "df_results.loc[0, 'Logistic Regression'] = Logistic(x_train, y_train, x_ogtest, y_ogtest)\n",
    "print('Logistic Regression: ',df_results.loc[0, 'Logistic Regression'])\n",
    "df_results.loc[0, 'Decision Tree'] = DecisionTree(x_train, y_train, x_ogtest, y_ogtest)\n",
    "print('Decision Tree: ',df_results.loc[0, 'Decision Tree'])\n",
    "df_results.loc[0, 'Random Forest'] = RandomForest(x_train, y_train, x_ogtest, y_ogtest)\n",
    "print('Random Forest: ',df_results.loc[0, 'Random Forest'])\n",
    "df_results.loc[0, 'KNN'] = KNN(x_train, y_train, x_ogtest, y_ogtest)\n",
    "print('KNN: ',df_results.loc[0, 'KNN'])\n",
    "df_results.loc[0, 'Naive Bayes'] = NaiveBayes(x_train, y_train, x_ogtest, y_ogtest)\n",
    "print('Naive Bayes: ',df_results.loc[0, 'Naive Bayes'])\n"
   ]
  },
  {
   "attachments": {},
   "cell_type": "markdown",
   "metadata": {},
   "source": [
    "##### 4.2) Stratified Sampling"
   ]
  },
  {
   "cell_type": "code",
   "execution_count": 82,
   "metadata": {},
   "outputs": [
    {
     "name": "stdout",
     "output_type": "stream",
     "text": [
      "Logistic Regression:  0.6967741935483871\n",
      "Decision Tree:  0.7870967741935484\n",
      "Random Forest:  0.9354838709677419\n",
      "KNN:  0.7741935483870968\n",
      "Naive Bayes:  0.8258064516129032\n"
     ]
    },
    {
     "name": "stderr",
     "output_type": "stream",
     "text": [
      "c:\\Users\\vibha\\AppData\\Local\\Programs\\Python\\Python310\\lib\\site-packages\\sklearn\\linear_model\\_logistic.py:444: ConvergenceWarning: lbfgs failed to converge (status=1):\n",
      "STOP: TOTAL NO. of ITERATIONS REACHED LIMIT.\n",
      "\n",
      "Increase the number of iterations (max_iter) or scale the data as shown in:\n",
      "    https://scikit-learn.org/stable/modules/preprocessing.html\n",
      "Please also refer to the documentation for alternative solver options:\n",
      "    https://scikit-learn.org/stable/modules/linear_model.html#logistic-regression\n",
      "  n_iter_i = _check_optimize_result(\n"
     ]
    }
   ],
   "source": [
    "x_train, x_test, y_train, y_test = train_test_split(df_stratified.drop('Class', axis=1), df_stratified['Class'], test_size=0.2, random_state=42)\n",
    "#add to the dataframe and print the results\n",
    "df_results.loc[1, 'Logistic Regression'] = Logistic(x_train, y_train, x_ogtest, y_ogtest)\n",
    "print('Logistic Regression: ',df_results.loc[1, 'Logistic Regression'])\n",
    "df_results.loc[1, 'Decision Tree'] = DecisionTree(x_train, y_train, x_ogtest, y_ogtest)\n",
    "print('Decision Tree: ',df_results.loc[1, 'Decision Tree'])\n",
    "df_results.loc[1, 'Random Forest'] = RandomForest(x_train, y_train, x_ogtest, y_ogtest)\n",
    "print('Random Forest: ',df_results.loc[1, 'Random Forest'])\n",
    "df_results.loc[1, 'KNN'] = KNN(x_train, y_train, x_ogtest, y_ogtest)\n",
    "print('KNN: ',df_results.loc[1, 'KNN'])\n",
    "df_results.loc[1, 'Naive Bayes'] = NaiveBayes(x_train, y_train, x_ogtest, y_ogtest)\n",
    "print('Naive Bayes: ',df_results.loc[1, 'Naive Bayes'])"
   ]
  },
  {
   "attachments": {},
   "cell_type": "markdown",
   "metadata": {},
   "source": [
    "##### 4.3) Cluster Sampling"
   ]
  },
  {
   "cell_type": "code",
   "execution_count": 83,
   "metadata": {},
   "outputs": [
    {
     "name": "stdout",
     "output_type": "stream",
     "text": [
      "Logistic Regression:  0.6967741935483871\n",
      "Decision Tree:  0.7870967741935484\n",
      "Random Forest:  0.9354838709677419\n",
      "KNN:  0.7741935483870968\n",
      "Naive Bayes:  0.8258064516129032\n"
     ]
    },
    {
     "name": "stderr",
     "output_type": "stream",
     "text": [
      "c:\\Users\\vibha\\AppData\\Local\\Programs\\Python\\Python310\\lib\\site-packages\\sklearn\\linear_model\\_logistic.py:444: ConvergenceWarning: lbfgs failed to converge (status=1):\n",
      "STOP: TOTAL NO. of ITERATIONS REACHED LIMIT.\n",
      "\n",
      "Increase the number of iterations (max_iter) or scale the data as shown in:\n",
      "    https://scikit-learn.org/stable/modules/preprocessing.html\n",
      "Please also refer to the documentation for alternative solver options:\n",
      "    https://scikit-learn.org/stable/modules/linear_model.html#logistic-regression\n",
      "  n_iter_i = _check_optimize_result(\n"
     ]
    }
   ],
   "source": [
    "x_train, x_test, y_train, y_test = train_test_split(df_cluster.drop('Class', axis=1), df_cluster['Class'], test_size=0.2, random_state=42)\n",
    "#add to the dataframe and print the results\n",
    "df_results.loc[2, 'Logistic Regression'] = Logistic(x_train, y_train, x_ogtest, y_ogtest)\n",
    "print('Logistic Regression: ',df_results.loc[1, 'Logistic Regression'])\n",
    "df_results.loc[2, 'Decision Tree'] = DecisionTree(x_train, y_train, x_ogtest, y_ogtest)\n",
    "print('Decision Tree: ',df_results.loc[1, 'Decision Tree'])\n",
    "df_results.loc[2, 'Random Forest'] = RandomForest(x_train, y_train, x_ogtest, y_ogtest)\n",
    "print('Random Forest: ',df_results.loc[1, 'Random Forest'])\n",
    "df_results.loc[2, 'KNN'] = KNN(x_train, y_train, x_ogtest, y_ogtest)\n",
    "print('KNN: ',df_results.loc[1, 'KNN'])\n",
    "df_results.loc[2, 'Naive Bayes'] = NaiveBayes(x_train, y_train, x_ogtest, y_ogtest)\n",
    "print('Naive Bayes: ',df_results.loc[1, 'Naive Bayes'])"
   ]
  },
  {
   "attachments": {},
   "cell_type": "markdown",
   "metadata": {},
   "source": [
    "##### 4.4) Systematic Sampling"
   ]
  },
  {
   "cell_type": "code",
   "execution_count": 84,
   "metadata": {},
   "outputs": [
    {
     "name": "stdout",
     "output_type": "stream",
     "text": [
      "Logistic Regression:  0.6967741935483871\n",
      "Decision Tree:  0.7870967741935484\n",
      "Random Forest:  0.9354838709677419\n",
      "KNN:  0.7741935483870968\n",
      "Naive Bayes:  0.8258064516129032\n"
     ]
    },
    {
     "name": "stderr",
     "output_type": "stream",
     "text": [
      "c:\\Users\\vibha\\AppData\\Local\\Programs\\Python\\Python310\\lib\\site-packages\\sklearn\\linear_model\\_logistic.py:444: ConvergenceWarning: lbfgs failed to converge (status=1):\n",
      "STOP: TOTAL NO. of ITERATIONS REACHED LIMIT.\n",
      "\n",
      "Increase the number of iterations (max_iter) or scale the data as shown in:\n",
      "    https://scikit-learn.org/stable/modules/preprocessing.html\n",
      "Please also refer to the documentation for alternative solver options:\n",
      "    https://scikit-learn.org/stable/modules/linear_model.html#logistic-regression\n",
      "  n_iter_i = _check_optimize_result(\n"
     ]
    }
   ],
   "source": [
    "x_train, x_test, y_train, y_test = train_test_split(df_stratified.drop('Class', axis=1), df_stratified['Class'], test_size=0.2, random_state=42)\n",
    "#add to the dataframe and print the results\n",
    "df_results.loc[3, 'Logistic Regression'] = Logistic(x_train, y_train, x_ogtest, y_ogtest)\n",
    "print('Logistic Regression: ',df_results.loc[1, 'Logistic Regression'])\n",
    "df_results.loc[3, 'Decision Tree'] = DecisionTree(x_train, y_train, x_ogtest, y_ogtest)\n",
    "print('Decision Tree: ',df_results.loc[1, 'Decision Tree'])\n",
    "df_results.loc[3, 'Random Forest'] = RandomForest(x_train, y_train, x_ogtest, y_ogtest)\n",
    "print('Random Forest: ',df_results.loc[1, 'Random Forest'])\n",
    "df_results.loc[3, 'KNN'] = KNN(x_train, y_train, x_ogtest, y_ogtest)\n",
    "print('KNN: ',df_results.loc[1, 'KNN'])\n",
    "df_results.loc[3, 'Naive Bayes'] = NaiveBayes(x_train, y_train, x_ogtest, y_ogtest)\n",
    "print('Naive Bayes: ',df_results.loc[1, 'Naive Bayes'])"
   ]
  },
  {
   "attachments": {},
   "cell_type": "markdown",
   "metadata": {},
   "source": [
    "##### 4.5) Reservoir Sampling"
   ]
  },
  {
   "cell_type": "code",
   "execution_count": 85,
   "metadata": {},
   "outputs": [
    {
     "name": "stdout",
     "output_type": "stream",
     "text": [
      "(155, 29) (23, 29) (88,) (23,)\n",
      "Logistic Regression:  0.6967741935483871\n",
      "Decision Tree:  0.7870967741935484\n",
      "Random Forest:  0.9354838709677419\n",
      "KNN:  0.7741935483870968\n",
      "Naive Bayes:  0.8258064516129032\n"
     ]
    },
    {
     "name": "stderr",
     "output_type": "stream",
     "text": [
      "c:\\Users\\vibha\\AppData\\Local\\Programs\\Python\\Python310\\lib\\site-packages\\sklearn\\linear_model\\_logistic.py:444: ConvergenceWarning: lbfgs failed to converge (status=1):\n",
      "STOP: TOTAL NO. of ITERATIONS REACHED LIMIT.\n",
      "\n",
      "Increase the number of iterations (max_iter) or scale the data as shown in:\n",
      "    https://scikit-learn.org/stable/modules/preprocessing.html\n",
      "Please also refer to the documentation for alternative solver options:\n",
      "    https://scikit-learn.org/stable/modules/linear_model.html#logistic-regression\n",
      "  n_iter_i = _check_optimize_result(\n"
     ]
    }
   ],
   "source": [
    "x_train, x_test, y_train, y_test = train_test_split(df_reservoir.drop('Class', axis=1), df_reservoir['Class'], test_size=0.2, random_state=42)\n",
    "#add to the dataframe and print the results\n",
    "print(x_ogtest.shape, x_test.shape, y_train.shape, y_test.shape)\n",
    "df_results.loc[4, 'Logistic Regression'] = Logistic(x_train, y_train, x_ogtest, y_ogtest)\n",
    "print('Logistic Regression: ',df_results.loc[1, 'Logistic Regression'])\n",
    "df_results.loc[4, 'Decision Tree'] = DecisionTree(x_train, y_train, x_ogtest, y_ogtest)\n",
    "print('Decision Tree: ',df_results.loc[1, 'Decision Tree'])\n",
    "df_results.loc[4, 'Random Forest'] = RandomForest(x_train, y_train, x_ogtest, y_ogtest)\n",
    "print('Random Forest: ',df_results.loc[1, 'Random Forest'])\n",
    "df_results.loc[4, 'KNN'] = KNN(x_train, y_train, x_ogtest, y_ogtest)\n",
    "print('KNN: ',df_results.loc[1, 'KNN'])\n",
    "\n",
    "df_results.loc[4, 'Naive Bayes'] = NaiveBayes(x_train, y_train, x_ogtest, y_ogtest)\n",
    "print('Naive Bayes: ',df_results.loc[1, 'Naive Bayes'])\n",
    "df_results = df_results.iloc[:, :6]"
   ]
  },
  {
   "attachments": {},
   "cell_type": "markdown",
   "metadata": {},
   "source": [
    "##### Final Results #####"
   ]
  },
  {
   "cell_type": "code",
   "execution_count": 86,
   "metadata": {},
   "outputs": [
    {
     "data": {
      "text/html": [
       "<div>\n",
       "<style scoped>\n",
       "    .dataframe tbody tr th:only-of-type {\n",
       "        vertical-align: middle;\n",
       "    }\n",
       "\n",
       "    .dataframe tbody tr th {\n",
       "        vertical-align: top;\n",
       "    }\n",
       "\n",
       "    .dataframe thead th {\n",
       "        text-align: right;\n",
       "    }\n",
       "</style>\n",
       "<table border=\"1\" class=\"dataframe\">\n",
       "  <thead>\n",
       "    <tr style=\"text-align: right;\">\n",
       "      <th></th>\n",
       "      <th>Sampling Method</th>\n",
       "      <th>Logistic Regression</th>\n",
       "      <th>Decision Tree</th>\n",
       "      <th>Random Forest</th>\n",
       "      <th>KNN</th>\n",
       "      <th>Naive Bayes</th>\n",
       "    </tr>\n",
       "  </thead>\n",
       "  <tbody>\n",
       "    <tr>\n",
       "      <th>0</th>\n",
       "      <td>Simple Random Sampling</td>\n",
       "      <td>0.993548</td>\n",
       "      <td>0.993548</td>\n",
       "      <td>1.0</td>\n",
       "      <td>0.993548</td>\n",
       "      <td>0.980645</td>\n",
       "    </tr>\n",
       "    <tr>\n",
       "      <th>1</th>\n",
       "      <td>Stratified Sampling</td>\n",
       "      <td>0.696774</td>\n",
       "      <td>0.787097</td>\n",
       "      <td>0.935484</td>\n",
       "      <td>0.774194</td>\n",
       "      <td>0.825806</td>\n",
       "    </tr>\n",
       "    <tr>\n",
       "      <th>2</th>\n",
       "      <td>Cluster Sampling</td>\n",
       "      <td>0.83871</td>\n",
       "      <td>0.987097</td>\n",
       "      <td>0.987097</td>\n",
       "      <td>0.980645</td>\n",
       "      <td>0.993548</td>\n",
       "    </tr>\n",
       "    <tr>\n",
       "      <th>3</th>\n",
       "      <td>Systematic Sampling</td>\n",
       "      <td>0.696774</td>\n",
       "      <td>0.787097</td>\n",
       "      <td>0.8</td>\n",
       "      <td>0.774194</td>\n",
       "      <td>0.825806</td>\n",
       "    </tr>\n",
       "    <tr>\n",
       "      <th>4</th>\n",
       "      <td>Reservoir Sampling</td>\n",
       "      <td>0.819355</td>\n",
       "      <td>0.83871</td>\n",
       "      <td>0.941935</td>\n",
       "      <td>0.8</td>\n",
       "      <td>0.703226</td>\n",
       "    </tr>\n",
       "  </tbody>\n",
       "</table>\n",
       "</div>"
      ],
      "text/plain": [
       "          Sampling Method Logistic Regression Decision Tree Random Forest  \\\n",
       "0  Simple Random Sampling            0.993548      0.993548           1.0   \n",
       "1     Stratified Sampling            0.696774      0.787097      0.935484   \n",
       "2        Cluster Sampling             0.83871      0.987097      0.987097   \n",
       "3     Systematic Sampling            0.696774      0.787097           0.8   \n",
       "4      Reservoir Sampling            0.819355       0.83871      0.941935   \n",
       "\n",
       "        KNN Naive Bayes  \n",
       "0  0.993548    0.980645  \n",
       "1  0.774194    0.825806  \n",
       "2  0.980645    0.993548  \n",
       "3  0.774194    0.825806  \n",
       "4       0.8    0.703226  "
      ]
     },
     "execution_count": 86,
     "metadata": {},
     "output_type": "execute_result"
    }
   ],
   "source": [
    "df_results.head()"
   ]
  }
 ],
 "metadata": {
  "kernelspec": {
   "display_name": "Python 3",
   "language": "python",
   "name": "python3"
  },
  "language_info": {
   "codemirror_mode": {
    "name": "ipython",
    "version": 3
   },
   "file_extension": ".py",
   "mimetype": "text/x-python",
   "name": "python",
   "nbconvert_exporter": "python",
   "pygments_lexer": "ipython3",
   "version": "3.10.4"
  },
  "orig_nbformat": 4,
  "vscode": {
   "interpreter": {
    "hash": "960f8064da7791162a34228ac1ae9476a4db61176ac8b99a9b82fa9aa4d278d3"
   }
  }
 },
 "nbformat": 4,
 "nbformat_minor": 2
}
